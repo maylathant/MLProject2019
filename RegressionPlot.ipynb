{
 "cells": [
  {
   "cell_type": "code",
   "execution_count": 31,
   "metadata": {
    "collapsed": true
   },
   "outputs": [],
   "source": [
    "import pickle\n",
    "import glob\n",
    "import numpy as np\n",
    "import pandas as pd"
   ]
  },
  {
   "cell_type": "code",
   "execution_count": 32,
   "metadata": {
    "collapsed": true
   },
   "outputs": [],
   "source": [
    "#########################################################################################\n",
    "#########################################################################################\n",
    "#########     Plot Various Regression Fits           ####################################\n",
    "#########################################################################################\n",
    "#########################################################################################\n",
    "#########################################################################################\n",
    "#     Warning : Must Save output in local \"/results/\" folder                   ##########\n",
    "#     The output is produced when you run the saveCont() function in FinObj.py ##########\n",
    "#     This function is toggled by a parameter in your LSMRFDemo notebook       ##########\n",
    "#########################################################################################\n",
    "#########################################################################################\n",
    "#########################################################################################"
   ]
  },
  {
   "cell_type": "code",
   "execution_count": 33,
   "metadata": {
    "collapsed": true
   },
   "outputs": [],
   "source": [
    "LSM_step = 2\n",
    "spot = \"105.5\"\n",
    "paths = 100000\n",
    "time_s = 2\n",
    "gen_path = 'results/step_{steps}_paths_{path}_<function {func} at *>_spot_{spot}_payoff_<function {payoff} at *>_time_s_{time_s}.pkl'"
   ]
  },
  {
   "cell_type": "code",
   "execution_count": 34,
   "metadata": {},
   "outputs": [],
   "source": [
    "lsm_path = gen_path.format(steps=LSM_step,path=paths,spot=spot,func=\"getCont\",payoff='birthdayVec',time_s=2)\n",
    "with open(glob.glob(lsm_path)[0], 'rb') as f:\n",
    "    mynewlist = pickle.load(f)"
   ]
  },
  {
   "cell_type": "code",
   "execution_count": 35,
   "metadata": {},
   "outputs": [
    {
     "data": {
      "image/png": "[encoded data removed]",
      "text/plain": [
       "<matplotlib.figure.Figure at 0x110f8a1d0>"
      ]
     },
     "metadata": {},
     "output_type": "display_data"
    }
   ],
   "source": [
    "import matplotlib.pyplot as pplot\n",
    "pplot.scatter(mynewlist['stockp'],mynewlist['payoff'])\n",
    "pplot.scatter(mynewlist['stockp'],mynewlist['Continuation'])\n",
    "pplot.xlabel('St')\n",
    "pplot.ylabel('Continuation Value')\n",
    "pplot.savefig(\"digAmfit.pdf\")\n",
    "pplot.show()"
   ]
  },
  {
   "cell_type": "code",
   "execution_count": 36,
   "metadata": {
    "collapsed": true
   },
   "outputs": [],
   "source": [
    "rf_path = gen_path.format(steps=LSM_step,path=paths,spot=spot,func=\"getContRF\",payoff='birthdayVec',time_s=time_s)\n",
    "with open(glob.glob(rf_path)[0], 'rb') as f:\n",
    "    mynewlist = pickle.load(f)"
   ]
  },
  {
   "cell_type": "code",
   "execution_count": 37,
   "metadata": {},
   "outputs": [
    {
     "data": {
      "image/png": "[encoded data removed]",
      "text/plain": [
       "<matplotlib.figure.Figure at 0x110fa7160>"
      ]
     },
     "metadata": {},
     "output_type": "display_data"
    }
   ],
   "source": [
    "import matplotlib.pyplot as pplot\n",
    "pplot.scatter(mynewlist['stockp'],mynewlist['payoff'])\n",
    "pplot.scatter(mynewlist['stockp'],mynewlist['Continuation'])\n",
    "pplot.xlabel('St')\n",
    "pplot.ylabel('Continuation Value')\n",
    "pplot.savefig(\"RFbadfit.pdf\")\n",
    "pplot.show()"
   ]
  },
  {
   "cell_type": "code",
   "execution_count": null,
   "metadata": {
    "collapsed": true
   },
   "outputs": [],
   "source": []
  }
 ],
 "metadata": {
  "kernelspec": {
   "display_name": "Python 3",
   "language": "python",
   "name": "python3"
  },
  "language_info": {
   "codemirror_mode": {
    "name": "ipython",
    "version": 3
   },
   "file_extension": ".py",
   "mimetype": "text/x-python",
   "name": "python",
   "nbconvert_exporter": "python",
   "pygments_lexer": "ipython3",
   "version": "3.6.3"
  }
 },
 "nbformat": 4,
 "nbformat_minor": 2
}
