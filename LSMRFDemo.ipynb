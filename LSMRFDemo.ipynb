{
 "cells": [
  {
   "cell_type": "code",
   "execution_count": 54,
   "metadata": {},
   "outputs": [],
   "source": [
    "import proj_helpers.FinObj as fin\n",
    "import numpy as np\n",
    "import proj_helpers.riskEngine as risk\n",
    "import matplotlib.pyplot as pplot\n",
    "import time"
   ]
  },
  {
   "cell_type": "code",
   "execution_count": 67,
   "metadata": {
    "collapsed": true
   },
   "outputs": [],
   "source": [
    "################################\n",
    "#### Monte Carlo Parameters ####\n",
    "################################\n",
    "paths = 50000\n",
    "pathsC = 1000000\n",
    "t_del = 1\n",
    "\n",
    "###Default setting is a two year product with two exercise dates (today and one week)\n",
    "t_unit = 1 #Unit of time:  default = 1 for years, 12 for months, 360 for days etc...\n",
    "time_s = 2 #Total number of time steps in t_units\n",
    "\n",
    "#Toggle continuation estimates and payoffs to output into the regression folder\n",
    "#for each timestep\n",
    "#Warning! If the paths and timesteps are large these files can get VERY big.\n",
    "#YOu will need this file to run the RegressionPlot notebook\n",
    "outputresults = True"
   ]
  },
  {
   "cell_type": "code",
   "execution_count": 68,
   "metadata": {
    "collapsed": true
   },
   "outputs": [],
   "source": [
    "################################\n",
    "###### Stock Parameters ########\n",
    "################################\n",
    "spot = 105.5\n",
    "vol = 0.15\n",
    "rate = 0.03\n",
    "div = 0.0\n",
    "expr = time_s/t_unit\n",
    "\n",
    "#Share object\n",
    "share1 = fin.Stock(spot,vol,t_unit,rate)"
   ]
  },
  {
   "cell_type": "code",
   "execution_count": 69,
   "metadata": {
    "collapsed": true
   },
   "outputs": [],
   "source": [
    "################################\n",
    "###### Option Parameters #######\n",
    "################################\n",
    "\n",
    "strike=100\n",
    "payoff=fin.birthdayVec #Define option payoff, Wedding Cake\n",
    "#payoff=fin.wedgeVec #Double Digital\n",
    "\n",
    "#Parameters for wedding cake and double digital\n",
    "cake = {\"rng\":[1,5],\"pay\":[1.0,0.5]}\n",
    "dd_strike = 90\n",
    "\n",
    "#Option Parameters\n",
    "myOption = fin.Option(share1,payoff,time_s,strike,t_unit,birthday=cake,wedge=dd_strike)"
   ]
  },
  {
   "cell_type": "code",
   "execution_count": 70,
   "metadata": {
    "collapsed": true
   },
   "outputs": [],
   "source": [
    "################################\n",
    "#### Regression Parameters #####\n",
    "################################\n",
    "\n",
    "#Standard LSM Parameters\n",
    "lsm_basis = 5\n",
    "\n",
    "#Random Forest Parameters\n",
    "rf_trees = 50\n",
    "min_samples = 0.0001\n",
    "max_depth = 5"
   ]
  },
  {
   "cell_type": "code",
   "execution_count": 71,
   "metadata": {
    "scrolled": true
   },
   "outputs": [
    {
     "name": "stderr",
     "output_type": "stream",
     "text": [
      "/Users/anthonymaylath/Documents/Schoolwork/NYU/Machine_Learning/CompSci/Project/src/proj_helpers/FinObj.py:244: FutureWarning: `rcond` parameter will change to the default of machine precision times ``max(M, N)`` where M and N are the input matrix dimensions.\n",
      "To use the future default and silence this warning we advise to pass `rcond=None`, to keep using the old, explicitly pass `rcond=-1`.\n",
      "  betas = np.linalg.lstsq(X,Ct1)[0]\n"
     ]
    },
    {
     "name": "stdout",
     "output_type": "stream",
     "text": [
      "Standard LSM Price = 0.1508021814871675\n",
      "Random Forest LSM Price = 0.15040719455662685\n",
      "Monte Carlo Tree Estimation Price = 0.15071470477586937\n"
     ]
    }
   ],
   "source": [
    "#########################################################################\n",
    "################ Get Price with Three Different Methods #################\n",
    "#########################################################################\n",
    "#This cell will compute the price using at least two\n",
    "#different continuation value approximations\n",
    "\n",
    "#Standard LSM\n",
    "slsm = fin.priceLSM(share1,myOption,paths,time_s,t_unit,\\\n",
    "                    anti=True,regressor=fin.getCont,num_basis=lsm_basis,outputresults=outputresults)\n",
    "\n",
    "print(\"Standard LSM Price = \" + str(slsm))\n",
    "\n",
    "#Random Forest LSM\n",
    "lsmrf = fin.priceLSM(share1,myOption,paths,time_s,t_unit,\\\n",
    "                     anti=True,regressor=fin.getContRF,\\\n",
    "                     num_trees=rf_trees,max_depth=max_depth,min_samples_leaf=min_samples,outputresults=outputresults)\n",
    "\n",
    "print(\"Random Forest LSM Price = \" + str(lsmrf))\n",
    "\n",
    "#Monte Carlo Tree Regression\n",
    "if time_s == 2: #Monte Carlo Tree Method only valid for two time step\n",
    "    mctr = fin.priceLSM(share1,myOption,paths,time_s,t_unit,\\\n",
    "                            anti=True,regressor=fin.getContMC,\\\n",
    "                            CV=fin.ControlVar(),\\\n",
    "                            stockC=share1,optC=myOption,pathsC=pathsC,\\\n",
    "                                T=time_s/t_unit,antiC=True,outputresults=outputresults)\n",
    "    \n",
    "    print(\"Monte Carlo Tree Estimation Price = \" + str(mctr))\n"
   ]
  },
  {
   "cell_type": "code",
   "execution_count": null,
   "metadata": {
    "collapsed": true
   },
   "outputs": [],
   "source": []
  }
 ],
 "metadata": {
  "kernelspec": {
   "display_name": "Python 3",
   "language": "python",
   "name": "python3"
  },
  "language_info": {
   "codemirror_mode": {
    "name": "ipython",
    "version": 3
   },
   "file_extension": ".py",
   "mimetype": "text/x-python",
   "name": "python",
   "nbconvert_exporter": "python",
   "pygments_lexer": "ipython3",
   "version": "3.6.3"
  }
 },
 "nbformat": 4,
 "nbformat_minor": 2
}
